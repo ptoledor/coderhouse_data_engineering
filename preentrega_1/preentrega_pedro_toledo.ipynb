{
 "cells": [
  {
   "cell_type": "code",
   "execution_count": 1,
   "metadata": {},
   "outputs": [],
   "source": [
    "import requests\n",
    "import numpy as np\n",
    "import pandas as pd\n",
    "import datetime\n"
   ]
  },
  {
   "cell_type": "code",
   "execution_count": 2,
   "metadata": {},
   "outputs": [
    {
     "data": {
      "text/plain": [
       "'\\nVamos a utilizar la Api de chuck norris para obtener chistes aleatorios.\\n\\nhttps://api.chucknorris.io/\\n\\nPorque... why not?\\n\\n'"
      ]
     },
     "execution_count": 2,
     "metadata": {},
     "output_type": "execute_result"
    }
   ],
   "source": [
    "'''\n",
    "Vamos a utilizar la Api de chuck norris para obtener chistes aleatorios.\n",
    "\n",
    "https://api.chucknorris.io/\n",
    "\n",
    "Porque... why not?\n",
    "\n",
    "'''"
   ]
  },
  {
   "cell_type": "code",
   "execution_count": 3,
   "metadata": {},
   "outputs": [
    {
     "data": {
      "text/html": [
       "<div>\n",
       "<style scoped>\n",
       "    .dataframe tbody tr th:only-of-type {\n",
       "        vertical-align: middle;\n",
       "    }\n",
       "\n",
       "    .dataframe tbody tr th {\n",
       "        vertical-align: top;\n",
       "    }\n",
       "\n",
       "    .dataframe thead th {\n",
       "        text-align: right;\n",
       "    }\n",
       "</style>\n",
       "<table border=\"1\" class=\"dataframe\">\n",
       "  <thead>\n",
       "    <tr style=\"text-align: right;\">\n",
       "      <th></th>\n",
       "      <th>created_at</th>\n",
       "      <th>id</th>\n",
       "      <th>url</th>\n",
       "      <th>value</th>\n",
       "      <th>fecha_insercion</th>\n",
       "    </tr>\n",
       "  </thead>\n",
       "  <tbody>\n",
       "    <tr>\n",
       "      <th>0</th>\n",
       "      <td>2020-01-05 13:42:28.420821</td>\n",
       "      <td>zaBJtyEuTrKeA4QnShNsog</td>\n",
       "      <td>https://api.chucknorris.io/jokes/zaBJtyEuTrKeA...</td>\n",
       "      <td>Chuck Norris was born :December 32nd</td>\n",
       "      <td>2024-05-07 22:24:40.383902</td>\n",
       "    </tr>\n",
       "  </tbody>\n",
       "</table>\n",
       "</div>"
      ],
      "text/plain": [
       "                   created_at                      id  \\\n",
       "0  2020-01-05 13:42:28.420821  zaBJtyEuTrKeA4QnShNsog   \n",
       "\n",
       "                                                 url  \\\n",
       "0  https://api.chucknorris.io/jokes/zaBJtyEuTrKeA...   \n",
       "\n",
       "                                  value            fecha_insercion  \n",
       "0  Chuck Norris was born :December 32nd 2024-05-07 22:24:40.383902  "
      ]
     },
     "execution_count": 3,
     "metadata": {},
     "output_type": "execute_result"
    }
   ],
   "source": [
    "#Definimos la funcion para llamar la api y obtener un chiste aleatorio\n",
    "\n",
    "def get_joke():\n",
    "    url = 'https://api.chucknorris.io/jokes/random'\n",
    "    response = requests.get(url)\n",
    "    data = response.json()\n",
    "    data = pd.DataFrame([data])\n",
    "\n",
    "    data['fecha_insercion'] = datetime.datetime.now()\n",
    "    data = data.drop(columns=['categories', 'icon_url', 'updated_at'])\n",
    "    return data\n",
    "\n",
    "#probamos la funcion\n",
    "joke = get_joke()\n",
    "joke"
   ]
  },
  {
   "cell_type": "code",
   "execution_count": 16,
   "metadata": {},
   "outputs": [],
   "source": [
    "user = 'ptoledor_coderhouse'\n",
    "passw = 'Oyd0K639G3'\n",
    "host = 'data-engineer-cluster.cyhh5bfevlmn.us-east-1.redshift.amazonaws.com'\n",
    "port = '5439'\n",
    "database = 'data-engineer-database'\n",
    "schema = 'ptoledor_coderhouse'"
   ]
  },
  {
   "cell_type": "code",
   "execution_count": 10,
   "metadata": {},
   "outputs": [],
   "source": [
    "#coneccion a redshift\n",
    "import sqlalchemy\n",
    "import psycopg2\n",
    "\n",
    "def conexion_redshift(user, passw, host, port, database):\n",
    "    conn_string = f'postgresql://{user}:{passw}@{host}:{port}/{database}?sslmode=require'\n",
    "    engine = sqlalchemy.create_engine(conn_string)\n",
    "    conn = engine.connect()\n",
    "    return conn, engine\n",
    "\n",
    "conn, engine = conexion_redshift(user, passw, host, port, database)"
   ]
  },
  {
   "cell_type": "code",
   "execution_count": null,
   "metadata": {},
   "outputs": [],
   "source": [
    "#creamos la tabla en redshift\n",
    "# def create_table_redshift(conn, engine, schema):\n",
    "#     query = f'''\n",
    "#     CREATE TABLE {schema}.chuck_norris_jokes(\n",
    "#     id VARCHAR(255),\n",
    "#     url VARCHAR(255),\n",
    "#     value VARCHAR(500),\n",
    "#     fecha_insercion TIMESTAMP\n",
    "#     )\n",
    "#     '''\n",
    "#     conn.execute(query)\n",
    "#     return\n",
    "\n",
    "#Comentado pq ya esta creada."
   ]
  },
  {
   "cell_type": "code",
   "execution_count": 27,
   "metadata": {},
   "outputs": [
    {
     "data": {
      "text/plain": [
       "1"
      ]
     },
     "execution_count": 27,
     "metadata": {},
     "output_type": "execute_result"
    }
   ],
   "source": [
    "#Insert de registro\n",
    "get_joke().to_sql(\n",
    "    name='chuck_jokes',\n",
    "    con=engine,\n",
    "    schema='ptoledor_coderhouse',\n",
    "    if_exists='append',\n",
    "    index=False\n",
    ")"
   ]
  }
 ],
 "metadata": {
  "kernelspec": {
   "display_name": "base",
   "language": "python",
   "name": "python3"
  },
  "language_info": {
   "codemirror_mode": {
    "name": "ipython",
    "version": 3
   },
   "file_extension": ".py",
   "mimetype": "text/x-python",
   "name": "python",
   "nbconvert_exporter": "python",
   "pygments_lexer": "ipython3",
   "version": "3.11.4"
  }
 },
 "nbformat": 4,
 "nbformat_minor": 2
}
