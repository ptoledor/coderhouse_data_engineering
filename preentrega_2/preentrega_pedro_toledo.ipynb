{
 "cells": [
  {
   "cell_type": "code",
   "execution_count": 8,
   "metadata": {},
   "outputs": [],
   "source": [
    "import requests\n",
    "import numpy as np\n",
    "import pandas as pd\n",
    "import datetime\n"
   ]
  },
  {
   "cell_type": "code",
   "execution_count": 9,
   "metadata": {},
   "outputs": [
    {
     "data": {
      "text/plain": [
       "'\\nVamos a utilizar la Api de chuck norris para obtener chistes aleatorios.\\n\\nhttps://api.chucknorris.io/\\n\\nPorque... why not?\\n\\n'"
      ]
     },
     "execution_count": 9,
     "metadata": {},
     "output_type": "execute_result"
    }
   ],
   "source": [
    "'''\n",
    "Vamos a utilizar la Api de chuck norris para obtener chistes aleatorios.\n",
    "\n",
    "https://api.chucknorris.io/\n",
    "\n",
    "Porque... why not?\n",
    "\n",
    "'''"
   ]
  },
  {
   "cell_type": "code",
   "execution_count": 10,
   "metadata": {},
   "outputs": [
    {
     "data": {
      "text/html": [
       "<div>\n",
       "<style scoped>\n",
       "    .dataframe tbody tr th:only-of-type {\n",
       "        vertical-align: middle;\n",
       "    }\n",
       "\n",
       "    .dataframe tbody tr th {\n",
       "        vertical-align: top;\n",
       "    }\n",
       "\n",
       "    .dataframe thead th {\n",
       "        text-align: right;\n",
       "    }\n",
       "</style>\n",
       "<table border=\"1\" class=\"dataframe\">\n",
       "  <thead>\n",
       "    <tr style=\"text-align: right;\">\n",
       "      <th></th>\n",
       "      <th>id</th>\n",
       "      <th>created_at</th>\n",
       "      <th>url</th>\n",
       "      <th>value</th>\n",
       "      <th>fecha_insercion</th>\n",
       "    </tr>\n",
       "  </thead>\n",
       "  <tbody>\n",
       "    <tr>\n",
       "      <th>0</th>\n",
       "      <td>yNualoRcRYukITzU-yleow</td>\n",
       "      <td>2020-01-05 13:42:23.240175</td>\n",
       "      <td>https://api.chucknorris.io/jokes/yNualoRcRYukI...</td>\n",
       "      <td>Chuck Norris makes great charcoal grilled cann...</td>\n",
       "      <td>2024-05-16 21:56:30.141513</td>\n",
       "    </tr>\n",
       "  </tbody>\n",
       "</table>\n",
       "</div>"
      ],
      "text/plain": [
       "                       id                  created_at  \\\n",
       "0  yNualoRcRYukITzU-yleow  2020-01-05 13:42:23.240175   \n",
       "\n",
       "                                                 url  \\\n",
       "0  https://api.chucknorris.io/jokes/yNualoRcRYukI...   \n",
       "\n",
       "                                               value  \\\n",
       "0  Chuck Norris makes great charcoal grilled cann...   \n",
       "\n",
       "             fecha_insercion  \n",
       "0 2024-05-16 21:56:30.141513  "
      ]
     },
     "execution_count": 10,
     "metadata": {},
     "output_type": "execute_result"
    }
   ],
   "source": [
    "#Definimos la funcion para llamar la api y obtener un chiste aleatorio\n",
    "\n",
    "def get_joke():\n",
    "    url = 'https://api.chucknorris.io/jokes/random'\n",
    "    response = requests.get(url)\n",
    "    data = response.json()\n",
    "    data = pd.DataFrame([data])\n",
    "\n",
    "    data['fecha_insercion'] = datetime.datetime.now()\n",
    "    data = data[['id', 'created_at', 'url', 'value', 'fecha_insercion']]\n",
    "    return data\n",
    "\n",
    "#probamos la funcion\n",
    "joke = get_joke()\n",
    "joke"
   ]
  },
  {
   "cell_type": "code",
   "execution_count": 11,
   "metadata": {},
   "outputs": [],
   "source": [
    "import config\n",
    "user = config.user\n",
    "passw = config.passw\n",
    "host = config.host\n",
    "port = config.port\n",
    "database = config.database\n",
    "schema = config.schema"
   ]
  },
  {
   "cell_type": "code",
   "execution_count": 12,
   "metadata": {},
   "outputs": [],
   "source": [
    "#coneccion a redshift\n",
    "import sqlalchemy\n",
    "\n",
    "def conexion_redshift(user, passw, host, port, database):\n",
    "    conn_string = f'postgresql://{user}:{passw}@{host}:{port}/{database}?sslmode=require'\n",
    "    engine = sqlalchemy.create_engine(conn_string)\n",
    "    conn = engine.connect()\n",
    "    return conn, engine\n",
    "\n",
    "conn, engine = conexion_redshift(user, passw, host, port, database)"
   ]
  },
  {
   "cell_type": "code",
   "execution_count": 13,
   "metadata": {},
   "outputs": [],
   "source": [
    "# creamos la tabla en redshift, puede ser a traves de un query o con pandas\n",
    "\n",
    "def create_table_query(conn, engine, schema, table_name):\n",
    "    query = f'''\n",
    "    CREATE TABLE IF NOT EXISTS {schema}.{table_name}(\n",
    "    id VARCHAR(50) PRIMARY KEY,\n",
    "    created_at TIMESTAMP,\n",
    "    url VARCHAR(500),\n",
    "    value VARCHAR(1000),\n",
    "    fecha_insercion TIMESTAMP\n",
    "    )\n",
    "    '''\n",
    "    conn.execute(query)\n",
    "    return\n",
    "\n",
    "\n",
    "create_table_query(conn, engine, schema, 'chuck_jokes2')"
   ]
  },
  {
   "cell_type": "code",
   "execution_count": 14,
   "metadata": {},
   "outputs": [
    {
     "data": {
      "text/plain": [
       "1"
      ]
     },
     "execution_count": 14,
     "metadata": {},
     "output_type": "execute_result"
    }
   ],
   "source": [
    "#Insert de un registro\n",
    "get_joke().to_sql(\n",
    "    name='chuck_jokes2',\n",
    "    con=engine,\n",
    "    schema=schema,\n",
    "    if_exists='append',\n",
    "    index=False,\n",
    "    dtype={ 'id': sqlalchemy.types.VARCHAR(50),\n",
    "            'created_at': sqlalchemy.types.TIMESTAMP,\n",
    "            'url': sqlalchemy.types.VARCHAR(500),\n",
    "            'value': sqlalchemy.types.VARCHAR(1000),\n",
    "            'fecha_insercion': sqlalchemy.types.TIMESTAMP\n",
    "            }\n",
    ")"
   ]
  },
  {
   "cell_type": "code",
   "execution_count": 15,
   "metadata": {},
   "outputs": [],
   "source": [
    "#Insertar un registro sin repetición de id\n",
    "\n",
    "def insertar_sin_repeticion(conn, engine, schema, table_name):\n",
    "\n",
    "    #Obtener registro de id de chistes\n",
    "    query = f'SELECT id FROM {schema}.{table_name}'\n",
    "\n",
    "    #Obtener ids de chistes en la tabla\n",
    "    ids_en_tabla = pd.read_sql(query, conn)['id'].values\n",
    "\n",
    "    #Nos aseguramos que el id no este en la tabla, si está, obtenemos otro chiste.\n",
    "    while True:\n",
    "        data = get_joke()\n",
    "        joke_id = data['id'][0]\n",
    "\n",
    "        if joke_id not in ids_en_tabla:\n",
    "            break\n",
    "        else:\n",
    "            print('Chiste repetido, obteniendo otro chiste')\n",
    "    \n",
    "    data.to_sql(\n",
    "            name='chuck_jokes2',\n",
    "            con=engine,\n",
    "            schema=schema,\n",
    "            if_exists='append',\n",
    "            index=False,\n",
    "            dtype={ 'id': sqlalchemy.types.VARCHAR(50),\n",
    "                    'created_at': sqlalchemy.types.TIMESTAMP,\n",
    "                    'url': sqlalchemy.types.VARCHAR(500),\n",
    "                    'value': sqlalchemy.types.VARCHAR(1000),\n",
    "                    'fecha_insercion': sqlalchemy.types.TIMESTAMP\n",
    "                    }\n",
    "    )\n",
    "\n",
    "    return\n",
    "\n",
    "insertar_sin_repeticion(conn, engine, schema, 'chuck_jokes2')"
   ]
  }
 ],
 "metadata": {
  "kernelspec": {
   "display_name": "base",
   "language": "python",
   "name": "python3"
  },
  "language_info": {
   "codemirror_mode": {
    "name": "ipython",
    "version": 3
   },
   "file_extension": ".py",
   "mimetype": "text/x-python",
   "name": "python",
   "nbconvert_exporter": "python",
   "pygments_lexer": "ipython3",
   "version": "3.11.4"
  }
 },
 "nbformat": 4,
 "nbformat_minor": 2
}
